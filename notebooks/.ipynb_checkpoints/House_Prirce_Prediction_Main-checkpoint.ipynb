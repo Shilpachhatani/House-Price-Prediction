{
 "cells": [
  {
   "cell_type": "markdown",
   "id": "7f64dae1-91cd-47a3-88d2-24ebe0a7f71e",
   "metadata": {},
   "source": [
    "# Problem Statement\n",
    "**Objective:**\n",
    "Predict the sale prices of houses in Ames, using machine learning. We aim to build a regression model that uses features such as area, location, and year built to estimate house prices accurately."
   ]
  },
  {
   "cell_type": "markdown",
   "id": "d8aa695d-a499-4e6d-a86d-4157a4ea8884",
   "metadata": {},
   "source": [
    "### Import Required Libraries"
   ]
  },
  {
   "cell_type": "code",
   "execution_count": null,
   "id": "155d9575-ff09-4d47-9193-e7c4ddfc6959",
   "metadata": {},
   "outputs": [],
   "source": [
    "\n",
    "import pandas as pd\n",
    "import numpy as np\n",
    "import matplotlib.pyplot as plt\n",
    "import seaborn as sns\n",
    "\n",
    "from sklearn.model_selection import train_test_split\n",
    "from sklearn.linear_model import LinearRegression\n",
    "from sklearn.ensemble import RandomForestRegressor\n",
    "from sklearn.metrics import mean_absolute_error, mean_squared_error\n",
    "from sklearn.preprocessing import LabelEncoder\n",
    "\n",
    "import warnings\n",
    "warnings.filterwarnings('ignore')\n",
    "%matplotlib inline\n"
   ]
  },
  {
   "cell_type": "code",
   "execution_count": null,
   "id": "783e712d-27cf-46cf-a456-1b6c1fd6feb1",
   "metadata": {},
   "outputs": [],
   "source": [
    "# -----------------------------------------------\n",
    "#  2. Load Dataset\n",
    "# -----------------------------------------------\n",
    "df = pd.read_csv(\"../data/Ames-Housing-Dataset.csv\")\n",
    "print(\"Dataset shape:\", df.shape)\n",
    "df.head()\n"
   ]
  },
  {
   "cell_type": "markdown",
   "id": "25770b65-fdff-4fae-96c6-b3bfe35ebfa9",
   "metadata": {},
   "source": [
    "\n",
    "### Data Cleaning\n"
   ]
  },
  {
   "cell_type": "code",
   "execution_count": null,
   "id": "0cf33c1d-6e80-4d16-8e9a-4a576e731dca",
   "metadata": {},
   "outputs": [],
   "source": [
    "# Drop columns with > 30% missing values\n",
    "null_percent = df.isnull().mean() * 100\n",
    "df = df.drop(columns=null_percent[null_percent > 30].index)\n"
   ]
  },
  {
   "cell_type": "code",
   "execution_count": null,
   "id": "63ba3d71-b3d6-4ff8-8bc1-adf1b75f31e0",
   "metadata": {},
   "outputs": [],
   "source": [
    "# Fill missing values\n",
    "for col in df.select_dtypes(include='object'):\n",
    "    df[col] = df[col].fillna(df[col].mode()[0])\n",
    "for col in df.select_dtypes(include=['int', 'float']):\n",
    "    df[col] = df[col].fillna(df[col].median())\n"
   ]
  },
  {
   "cell_type": "code",
   "execution_count": null,
   "id": "789045e1-56d4-4278-b322-cd27f155eea4",
   "metadata": {},
   "outputs": [],
   "source": [
    "# Drop ID columns\n",
    "df.drop(columns=['Order', 'PID'], inplace=True)\n",
    "df.head()"
   ]
  },
  {
   "cell_type": "markdown",
   "id": "9fc411ce-ce97-4e1f-be1d-fc1496555990",
   "metadata": {},
   "source": [
    "###  Exploratory Data Analysis (EDA)"
   ]
  },
  {
   "cell_type": "markdown",
   "id": "4af99bab-e136-432c-8794-5f2b72e504d6",
   "metadata": {},
   "source": [
    "#### Living Area Vs Price"
   ]
  },
  {
   "cell_type": "code",
   "execution_count": null,
   "id": "abae015d-bd40-44f6-a027-fab1cd4bbd29",
   "metadata": {},
   "outputs": [],
   "source": [
    "# Living Area vs Price\n",
    "sns.scatterplot(data=df, x='Gr Liv Area', y='SalePrice')\n",
    "plt.title(\"Living Area vs Sale Price\")\n",
    "plt.show()\n"
   ]
  },
  {
   "cell_type": "markdown",
   "id": "977f9c83-a786-4efa-aa1d-c02e056206ab",
   "metadata": {},
   "source": [
    "**Insights:**\n",
    "The Above Graph Shows that:\n",
    "- As area increases, sale price increases\n",
    "- Bigger houses cost more"
   ]
  },
  {
   "cell_type": "markdown",
   "id": "f15e5fd2-f829-4c90-bad9-bf96b5bf3783",
   "metadata": {},
   "source": [
    "#### Distribution of House Sale Prices(Sale Price Vs Number of Houses)"
   ]
  },
  {
   "cell_type": "code",
   "execution_count": null,
   "id": "2ccd0930-d68b-44d5-8904-c097b9b60afb",
   "metadata": {},
   "outputs": [],
   "source": [
    "# Histogram to see the spread of Sale Prices\n",
    "plt.figure(figsize=(8, 5))\n",
    "sns.histplot(df['SalePrice'], bins=40, color='skyblue', kde=True)\n",
    "plt.title(\"Distribution of House Sale Prices\")\n",
    "plt.xlabel(\"Sale Price (USD)\")\n",
    "plt.ylabel(\"Number of Houses\")\n",
    "plt.show()\n"
   ]
  },
  {
   "cell_type": "markdown",
   "id": "7cb59247-091b-4aec-8243-2f9719a4b8b2",
   "metadata": {},
   "source": [
    "**Insights:**\n",
    "- Most houses are sold for $100,000 to $250,000\n",
    "- A few expensive houses go above $400,000\n",
    "\n"
   ]
  },
  {
   "cell_type": "markdown",
   "id": "6bf00c45-2103-4e72-9976-f381966f4a3c",
   "metadata": {},
   "source": [
    "#### Average Sale Price Vs Year Built"
   ]
  },
  {
   "cell_type": "code",
   "execution_count": null,
   "id": "d7d8d609-93b3-4e9e-ba08-31e1a4fac7e1",
   "metadata": {},
   "outputs": [],
   "source": [
    "# Group by Year Built and calculate average Sale Price\n",
    "avg_price_by_year = df.groupby('Year Built')['SalePrice'].mean()\n",
    "\n",
    "# Plot the line chart\n",
    "plt.figure(figsize=(10, 5))\n",
    "avg_price_by_year.plot(kind='line', color='green', marker='o')\n",
    "plt.title(\"Average Sale Price by Year Built\")\n",
    "plt.xlabel(\"Year Built\")\n",
    "plt.ylabel(\"Average Sale Price\")\n",
    "plt.grid(True)\n",
    "plt.tight_layout()\n",
    "plt.show()\n"
   ]
  },
  {
   "cell_type": "markdown",
   "id": "b3e4c1c9-bff5-465b-9faa-5b7a50211897",
   "metadata": {},
   "source": [
    "**Insights:**\n",
    "This graph shows\n",
    "- how the average house price changes based on the year it was built.\n",
    "- You’ll notice that houses built in recent years (2000–2010) generally have higher average prices.\n",
    "- The line may go up and down slightly, but the overall trend is usually upward.\n",
    "\n"
   ]
  },
  {
   "cell_type": "markdown",
   "id": "b2109090-5d87-471d-9f50-c6766e12efa1",
   "metadata": {},
   "source": [
    "#### Average Sale Price by Neighborhood(Sale Price Vs Neighborhood)"
   ]
  },
  {
   "cell_type": "code",
   "execution_count": null,
   "id": "16d0d219-07f1-45b8-9a61-eb82dd518a80",
   "metadata": {},
   "outputs": [],
   "source": [
    "plt.figure(figsize=(12, 5))\n",
    "avg_price = df.groupby('Neighborhood')['SalePrice'].mean().sort_values(ascending=False)\n",
    "sns.barplot(x=avg_price.index, y=avg_price.values, palette='coolwarm')\n",
    "plt.xticks(rotation=90)\n",
    "plt.title(\"Average Sale Price by Neighborhood\")\n",
    "plt.ylabel(\"Average Sale Price\")\n",
    "plt.xlabel(\"Neighborhood\")\n",
    "plt.show()\n"
   ]
  },
  {
   "cell_type": "markdown",
   "id": "a8d5428a-fc5c-49c9-ae36-13f031ed2dfd",
   "metadata": {},
   "source": [
    "### Preprocessing for Modeling"
   ]
  },
  {
   "cell_type": "code",
   "execution_count": null,
   "id": "539ebfba-117c-46ca-985e-21f8c69d6bc7",
   "metadata": {},
   "outputs": [],
   "source": [
    "# Encode categorical columns\n",
    "le = LabelEncoder()\n",
    "for col in df.select_dtypes(include='object').columns:\n",
    "    df[col] = le.fit_transform(df[col])\n",
    "\n",
    "# Define features and target\n",
    "X = df.drop(columns='SalePrice')\n",
    "y = df['SalePrice']\n",
    "\n",
    "# Train-test split\n",
    "X_train, X_test, y_train, y_test = train_test_split(X, y, test_size=0.2, random_state=42)\n"
   ]
  },
  {
   "cell_type": "markdown",
   "id": "61331cc1-bdb0-4ced-bf92-5f0849533a48",
   "metadata": {},
   "source": [
    "### Model Training and Evaluation"
   ]
  },
  {
   "cell_type": "markdown",
   "id": "bdeda4de-ac2f-4546-bcaa-164ec390dccc",
   "metadata": {},
   "source": [
    "####  Linear Regression"
   ]
  },
  {
   "cell_type": "code",
   "execution_count": null,
   "id": "b269b203-6807-4a04-90b9-f5cc38a20f11",
   "metadata": {},
   "outputs": [],
   "source": [
    "lr_model = LinearRegression()\n",
    "lr_model.fit(X_train, y_train)\n",
    "y_pred_lr = lr_model.predict(X_test)\n",
    "\n",
    "mae_lr = mean_absolute_error(y_test, y_pred_lr)\n",
    "rmse_lr = np.sqrt(mean_squared_error(y_test, y_pred_lr))\n",
    "\n",
    "print(\" Linear Regression Results\")\n",
    "print(f\"MAE  : ${mae_lr:,.2f}\")\n",
    "print(f\"RMSE : ${rmse_lr:,.2f}\")\n"
   ]
  },
  {
   "cell_type": "markdown",
   "id": "582fb448-5c53-4306-827e-cbf0592ad2ed",
   "metadata": {},
   "source": [
    "#### Random Forest Regressor"
   ]
  },
  {
   "cell_type": "code",
   "execution_count": null,
   "id": "9241f168-09d0-4ba7-a1b6-cb08df954be1",
   "metadata": {},
   "outputs": [],
   "source": [
    "rf_model = RandomForestRegressor(n_estimators=100, random_state=42)\n",
    "rf_model.fit(X_train, y_train)\n",
    "y_pred_rf = rf_model.predict(X_test)\n",
    "\n",
    "mae_rf = mean_absolute_error(y_test, y_pred_rf)\n",
    "rmse_rf = np.sqrt(mean_squared_error(y_test, y_pred_rf))\n",
    "\n",
    "print(\"\\n Random Forest Regression Results\")\n",
    "print(f\"MAE  : ${mae_rf:,.2f}\")\n",
    "print(f\"RMSE : ${rmse_rf:,.2f}\")\n"
   ]
  },
  {
   "cell_type": "markdown",
   "id": "b81f61da-568b-4d72-8bf1-3e59704c17bb",
   "metadata": {},
   "source": [
    "#### Comparing Both Models"
   ]
  },
  {
   "cell_type": "markdown",
   "id": "8cc0919d-94b0-4ddb-8d5c-e75b88917f7b",
   "metadata": {},
   "source": [
    "**Comparison:**\n",
    "- Linear Regression gives an\n",
    "- MAE of ($20.2K) and RMSE of ($33.4K), showing decent but less precise predictions.\n",
    "- Random Forest improves on this with lower MAE ($15.8K) and RMSE ($26.5K), handling non-linear patterns better.\n",
    "##### **Random Forest** is the better choice for more accurate house price prediction."
   ]
  },
  {
   "cell_type": "markdown",
   "id": "0cb3a30a-b5c0-497e-a7b3-ea3f4bd2e2aa",
   "metadata": {},
   "source": [
    "### Feature Importance from Random Forest\n"
   ]
  },
  {
   "cell_type": "code",
   "execution_count": null,
   "id": "4c5eb455-9fd6-4b6b-a9af-efbfe75abfdb",
   "metadata": {},
   "outputs": [],
   "source": [
    "importances = rf_model.feature_importances_\n",
    "feat_imp = pd.Series(importances, index=X.columns).sort_values(ascending=False).head(10)\n",
    "\n",
    "# Plot top 10 features\n",
    "plt.figure(figsize=(10, 6))\n",
    "sns.barplot(x=feat_imp, y=feat_imp.index, palette='coolwarm')\n",
    "plt.title(\"Top 10 Features Influencing Sale Price\")\n",
    "plt.xlabel(\"Feature Importance Score\")\n",
    "plt.ylabel(\"Features\")\n",
    "plt.show()\n"
   ]
  },
  {
   "cell_type": "markdown",
   "id": "012a0d90-5834-4a10-b0ce-5a0f8e968dea",
   "metadata": {},
   "source": [
    "**Insights:**\n",
    "This bar graph shows which features the Random Forest model thinks are most useful \n",
    " when predicting house prices.\n",
    " For example, `Overall Qual` (overall material and finish quality) and `Gr Liv Area` \n",
    " (above ground living area) are among the most influential.\n",
    " The higher the bar, the more important that feature is in determining the final prediction"
   ]
  },
  {
   "cell_type": "markdown",
   "id": "b8a90fc5-e5ee-4e59-baaa-878c2bee44c7",
   "metadata": {},
   "source": [
    "### Conclusion\n",
    "we developed and evaluated regression models to predict house prices using the Ames Housing Dataset. \n",
    "Through thorough data cleaning, feature analysis, and modeling, \n",
    "we identified key factors such as living area, overall quality, and neighborhood as strong predictors of price.\n",
    "While linear regression gave a decent baseline, the random forest model performed much better with lower prediction errors.\n",
    "In the end, we achieved accurate and reliable predictions, with random forest showing strong potential \n",
    "for real-world use in estimating house prices."
   ]
  },
  {
   "cell_type": "code",
   "execution_count": null,
   "id": "99be3a3a-ba72-430b-9d66-db69624629e0",
   "metadata": {},
   "outputs": [],
   "source": []
  },
  {
   "cell_type": "markdown",
   "id": "3dd3733e-e9bb-4ec5-8025-b74c7f4536cd",
   "metadata": {},
   "source": [
    "### Usage Example"
   ]
  },
  {
   "cell_type": "code",
   "execution_count": null,
   "id": "c053dd43-5dd6-42d1-a23b-96bda403b388",
   "metadata": {},
   "outputs": [],
   "source": [
    "example = {\n",
    "    'Gr Liv Area': 2200,        # Above ground living area (sq ft)\n",
    "    'Garage Cars': 2,           # Number of cars garage can hold\n",
    "    'Year Built': 2010,         # Year the house was built\n",
    "    'Overall Qual': 7,          # Overall quality of the house (1-10)\n",
    "    'Total Bsmt SF': 1000,      # Total basement area\n",
    "    '1st Flr SF': 1200,         # First floor square footage\n",
    "    '2nd Flr SF': 1000,         # Second floor square footage\n",
    "    'Full Bath': 2,             # Number of full bathrooms\n",
    "    'Half Bath': 1,             # Number of half bathrooms\n",
    "    'Fireplaces': 1,            # Number of fireplaces\n",
    "    'Neighborhood': 15,         # Encoded value for 'Neighborhood'\n",
    "    # 🔁 Include all other required columns with defaults or 0\n",
    "}\n",
    "\n",
    "example_df = pd.DataFrame([example])\n",
    "example_df = example_df.reindex(columns=X.columns, fill_value=0)\n",
    "\n",
    "predicted_price = rf_model.predict(example_df)\n",
    "print(f\"🏡 Predicted Sale Price for the Example House: ${predicted_price[0]:,.2f}\")\n"
   ]
  },
  {
   "cell_type": "code",
   "execution_count": null,
   "id": "09a92e84-1086-409e-a761-e23c7fa98fee",
   "metadata": {},
   "outputs": [],
   "source": []
  }
 ],
 "metadata": {
  "kernelspec": {
   "display_name": "Python 3 (ipykernel)",
   "language": "python",
   "name": "python3"
  },
  "language_info": {
   "codemirror_mode": {
    "name": "ipython",
    "version": 3
   },
   "file_extension": ".py",
   "mimetype": "text/x-python",
   "name": "python",
   "nbconvert_exporter": "python",
   "pygments_lexer": "ipython3",
   "version": "3.8.10"
  }
 },
 "nbformat": 4,
 "nbformat_minor": 5
}
